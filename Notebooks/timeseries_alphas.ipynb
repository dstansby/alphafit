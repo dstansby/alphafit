{
 "cells": [
  {
   "cell_type": "code",
   "execution_count": 2,
   "metadata": {},
   "outputs": [],
   "source": [
    "%matplotlib inline\n",
    "import sys\n",
    "sys.path.append('../fitting')\n",
    "sys.path.append('../visualising')\n",
    "from datetime import datetime, timedelta\n",
    "\n",
    "import matplotlib.pyplot as plt\n",
    "import matplotlib.colors as mcolor\n",
    "import pandas as pd\n",
    "import numpy as np\n",
    "from plasmapy.physics import dimensionless\n",
    "import astropy.units as u\n",
    "import astropy.constants as const\n",
    "\n",
    "from heliopy.data import helios\n",
    "\n",
    "import vis_helpers as helpers\n",
    "from helpers import mplhelp\n",
    "from helpers import helioshelp\n",
    "from plot_fitted_dist_alphas import plot_dist_time"
   ]
  },
  {
   "cell_type": "code",
   "execution_count": 5,
   "metadata": {},
   "outputs": [
    {
     "name": "stdout",
     "output_type": "stream",
     "text": [
      "1976 104\n",
      "1976 105\n",
      "Downloading ftp://cdaweb.gsfc.nasa.gov/pub/data/helios/helios2/merged/he2_40sec/H276_106.dat\n"
     ]
    },
    {
     "name": "stderr",
     "output_type": "stream",
     "text": [
      "100.0% 811008 / 803113\n"
     ]
    },
    {
     "name": "stdout",
     "output_type": "stream",
     "text": [
      "\n",
      "\n",
      "1976 106 Processed ascii file\n",
      "Downloading ftp://cdaweb.gsfc.nasa.gov/pub/data/helios/helios2/merged/he2_40sec/H276_107.dat\n"
     ]
    },
    {
     "name": "stderr",
     "output_type": "stream",
     "text": [
      "100.0% 909312 / 903005\n"
     ]
    },
    {
     "name": "stdout",
     "output_type": "stream",
     "text": [
      "\n",
      "\n",
      "1976 107 Processed ascii file\n",
      "Downloading ftp://cdaweb.gsfc.nasa.gov/pub/data/helios/helios2/merged/he2_40sec/H276_108.dat\n"
     ]
    },
    {
     "name": "stderr",
     "output_type": "stream",
     "text": [
      "100.0% 901120 / 894165\n"
     ]
    },
    {
     "name": "stdout",
     "output_type": "stream",
     "text": [
      "\n",
      "\n",
      "1976 108 Processed ascii file\n",
      "Downloading ftp://cdaweb.gsfc.nasa.gov/pub/data/helios/helios2/merged/he2_40sec/H276_109.dat\n"
     ]
    },
    {
     "name": "stderr",
     "output_type": "stream",
     "text": [
      "100.0% 909312 / 907867\n"
     ]
    },
    {
     "name": "stdout",
     "output_type": "stream",
     "text": [
      "\n",
      "\n",
      "1976 109 Processed ascii file\n",
      "Downloading ftp://cdaweb.gsfc.nasa.gov/pub/data/helios/helios2/merged/he2_40sec/H276_110.dat\n"
     ]
    },
    {
     "name": "stderr",
     "output_type": "stream",
     "text": [
      "100.0% 671744 / 669187\n"
     ]
    },
    {
     "name": "stdout",
     "output_type": "stream",
     "text": [
      "\n",
      "\n",
      "1976 110 Processed ascii file\n",
      "Downloading ftp://cdaweb.gsfc.nasa.gov/pub/data/helios/helios2/merged/he2_40sec/H276_111.dat\n"
     ]
    },
    {
     "name": "stderr",
     "output_type": "stream",
     "text": [
      "100.0% 901120 / 896375\n"
     ]
    },
    {
     "name": "stdout",
     "output_type": "stream",
     "text": [
      "\n",
      "\n",
      "1976 111 Processed ascii file\n",
      "Downloading ftp://cdaweb.gsfc.nasa.gov/pub/data/helios/helios2/merged/he2_40sec/H276_112.dat\n"
     ]
    },
    {
     "name": "stderr",
     "output_type": "stream",
     "text": [
      "100.0% 892928 / 887977\n"
     ]
    },
    {
     "name": "stdout",
     "output_type": "stream",
     "text": [
      "\n",
      "\n",
      "1976 112 Processed ascii file\n",
      "Downloading ftp://cdaweb.gsfc.nasa.gov/pub/data/helios/helios2/merged/he2_40sec/H276_113.dat\n"
     ]
    },
    {
     "name": "stderr",
     "output_type": "stream",
     "text": [
      "100.0% 589824 / 582113\n"
     ]
    },
    {
     "name": "stdout",
     "output_type": "stream",
     "text": [
      "\n",
      "\n",
      "1976 113 Processed ascii file\n",
      "Downloading ftp://cdaweb.gsfc.nasa.gov/pub/data/helios/helios2/merged/he2_40sec/H276_114.dat\n"
     ]
    },
    {
     "name": "stderr",
     "output_type": "stream",
     "text": [
      "100.0% 442368 / 436695\n"
     ]
    },
    {
     "name": "stdout",
     "output_type": "stream",
     "text": [
      "\n",
      "\n",
      "1976 114 Processed ascii file\n",
      "/Users/dstansby/Data/helios/fits/helios2/fits/1976/h2_1976_104_alpha_fits.hdf\n",
      "/Users/dstansby/Data/helios/fits/helios2/fits/1976/h2_1976_105_alpha_fits.hdf\n",
      "/Users/dstansby/Data/helios/fits/helios2/fits/1976/h2_1976_106_alpha_fits.hdf\n",
      "/Users/dstansby/Data/helios/fits/helios2/fits/1976/h2_1976_107_alpha_fits.hdf\n",
      "/Users/dstansby/Data/helios/fits/helios2/fits/1976/h2_1976_108_alpha_fits.hdf\n",
      "/Users/dstansby/Data/helios/fits/helios2/fits/1976/h2_1976_109_alpha_fits.hdf\n",
      "/Users/dstansby/Data/helios/fits/helios2/fits/1976/h2_1976_110_alpha_fits.hdf\n",
      "/Users/dstansby/Data/helios/fits/helios2/fits/1976/h2_1976_111_alpha_fits.hdf\n",
      "/Users/dstansby/Data/helios/fits/helios2/fits/1976/h2_1976_112_alpha_fits.hdf\n",
      "/Users/dstansby/Data/helios/fits/helios2/fits/1976/h2_1976_113_alpha_fits.hdf\n",
      "/Users/dstansby/Data/helios/fits/helios2/fits/1976/h2_1976_114_alpha_fits.hdf\n"
     ]
    }
   ],
   "source": [
    "# Set probe and dates to compare here\n",
    "probe = '2'\n",
    "starttime = datetime(1976, 4, 13)\n",
    "endtime = starttime + timedelta(days=10)\n",
    "\n",
    "merged = helios.merged(probe, starttime, endtime)\n",
    "alphas = helpers.load_alphafit(probe, starttime, endtime)\n",
    "protons = helios.corefit(probe, starttime, endtime, try_download=False)"
   ]
  },
  {
   "cell_type": "code",
   "execution_count": 6,
   "metadata": {},
   "outputs": [
    {
     "name": "stdout",
     "output_type": "stream",
     "text": [
      "New keys:\n",
      " Index(['B instrument', 'Bx', 'By', 'Bz', 'sigma B', 'Ion instrument', 'Status',\n",
      "       'Tp_par', 'Tp_perp', 'carrot', 'r_sun', 'clat', 'clong',\n",
      "       'earth_he_angle', 'n_p', 'vp_x', 'vp_y', 'vp_z', 'vth_p_par',\n",
      "       'vth_p_perp', '|B|', '|v|', 'Tp_tot', 'p_mag', 'p_th_par', 'p_th_tot',\n",
      "       'Beta', 'Beta_tot', 'Tani', 'n_p_norm', 'mass_flux', 'Entropy', 'va_x',\n",
      "       'va_y', 'va_z', '|va|'],\n",
      "      dtype='object')\n"
     ]
    }
   ],
   "source": [
    "protons = helioshelp.calculate_derived(protons)\n",
    "\n",
    "alphas[['Bx', 'By', 'Bz', '|B|']] = protons[['Bx', 'By', 'Bz', '|B|']]\n",
    "alphas['Beta_par'] = alphas['Ta_par'] * const.k_B.value * alphas['n_a'] * 1e6 / (alphas['|B|']**2 * 1e-18 / (2 * const.mu0))\n",
    "alphas['Tani'] = alphas['Ta_perp'] / alphas['Ta_par']"
   ]
  },
  {
   "cell_type": "code",
   "execution_count": 7,
   "metadata": {},
   "outputs": [
    {
     "data": {
      "text/plain": [
       "Index(['rh', 'esh', 'clong', 'clat', 'HGIlong', 'br', 'bt', 'bn', 'vp1r',\n",
       "       'vp1t', 'vp1n', 'crot', 'np1', 'vp1', 'Tp1', 'vaz', 'vel', 'Bx', 'By',\n",
       "       'Bz', 'sBx', 'sBy', 'sBz', 'nal', 'val', 'Tal', 'np2', 'vp2'],\n",
       "      dtype='object')"
      ]
     },
     "execution_count": 7,
     "metadata": {},
     "output_type": "execute_result"
    }
   ],
   "source": [
    "merged.keys()"
   ]
  },
  {
   "cell_type": "code",
   "execution_count": 19,
   "metadata": {},
   "outputs": [
    {
     "data": {
      "text/plain": [
       "(721460.0, 721461.0)"
      ]
     },
     "execution_count": 19,
     "metadata": {},
     "output_type": "execute_result"
    },
    {
     "data": {
      "image/png": "[encoded data removed]",
      "text/plain": [
       "<Figure size 432x288 with 1 Axes>"
      ]
     },
     "metadata": {},
     "output_type": "display_data"
    }
   ],
   "source": [
    "fig, ax = plt.subplots()\n",
    "ax.plot(alphas['Ta_par'] / 2)\n",
    "ax.plot(alphas['Ta_perp'] / 2)\n",
    "ax.plot(merged['Tal'])\n",
    "ax.plot(protons['Tp_par'])\n",
    "\n",
    "ax.set_yscale('log')\n",
    "ax.set_ylim(1e5, 1e8)\n",
    "ax.set_xlim(starttime + timedelta(days=3), starttime + timedelta(days=4))"
   ]
  },
  {
   "cell_type": "code",
   "execution_count": null,
   "metadata": {},
   "outputs": [],
   "source": []
  }
 ],
 "metadata": {
  "kernelspec": {
   "display_name": "Python 3",
   "language": "python",
   "name": "python3"
  }
 },
 "nbformat": 4,
 "nbformat_minor": 2
}
